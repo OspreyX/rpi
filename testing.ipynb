{
 "metadata": {
  "name": "",
  "signature": "sha256:333ac6ade7a062e72200c69cfc44cc26c27662fb0bc9a274b346782d321e8fc4"
 },
 "nbformat": 3,
 "nbformat_minor": 0,
 "worksheets": [
  {
   "cells": [
    {
     "cell_type": "markdown",
     "metadata": {},
     "source": [
      "<iframe width=\"550\" height=\"550\" frameborder=\"0\" seamless=\"seamless\" scrolling=\"no\" src=\"https://plot.ly/~yves/46.embed?width=550&height=550\"></iframe>"
     ]
    },
    {
     "cell_type": "markdown",
     "metadata": {},
     "source": [
      "<iframe width=\"550\" height=\"550\" frameborder=\"0\" seamless=\"seamless\" scrolling=\"no\" src=\"https://plot.ly/~yves/results.embed?width=550&height=550\"></iframe>"
     ]
    }
   ],
   "metadata": {}
  }
 ]
}